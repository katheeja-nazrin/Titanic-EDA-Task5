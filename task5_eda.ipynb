{
 "cells": [
  {
   "cell_type": "markdown",
   "id": "59c7db8c",
   "metadata": {},
   "source": [
    "# Task 5 – Exploratory Data Analysis (Titanic Dataset)"
   ]
  },
  {
   "cell_type": "markdown",
   "id": "73f01b19",
   "metadata": {},
   "source": [
    "\n",
    "This notebook performs **Exploratory Data Analysis (EDA)** on the Titanic dataset.\n",
    "\n",
    "We will:\n",
    "- Explore the dataset structure\n",
    "- Check for missing values\n",
    "- Visualize important features\n",
    "- Identify patterns and insights\n"
   ]
  },
  {
   "cell_type": "code",
   "execution_count": null,
   "id": "8cf41b56",
   "metadata": {},
   "outputs": [],
   "source": [
    "\n",
    "import pandas as pd\n",
    "import seaborn as sns\n",
    "import matplotlib.pyplot as plt\n",
    "\n",
    "sns.set(style=\"whitegrid\")\n"
   ]
  },
  {
   "cell_type": "code",
   "execution_count": null,
   "id": "a07642d2",
   "metadata": {},
   "outputs": [],
   "source": [
    "\n",
    "# Load Titanic dataset (place train.csv in the same directory)\n",
    "df = pd.read_csv(\"train.csv\")\n",
    "df.head()\n"
   ]
  },
  {
   "cell_type": "code",
   "execution_count": null,
   "id": "f56b0e44",
   "metadata": {},
   "outputs": [],
   "source": [
    "df.info()"
   ]
  },
  {
   "cell_type": "code",
   "execution_count": null,
   "id": "33f29117",
   "metadata": {},
   "outputs": [],
   "source": [
    "df.describe()"
   ]
  },
  {
   "cell_type": "code",
   "execution_count": null,
   "id": "14dbc8b0",
   "metadata": {},
   "outputs": [],
   "source": [
    "df.isnull().sum()"
   ]
  },
  {
   "cell_type": "code",
   "execution_count": null,
   "id": "bc3d7128",
   "metadata": {},
   "outputs": [],
   "source": [
    "df['Survived'].value_counts()"
   ]
  },
  {
   "cell_type": "markdown",
   "id": "e8ab9a07",
   "metadata": {},
   "source": [
    "## Visualizations"
   ]
  },
  {
   "cell_type": "code",
   "execution_count": null,
   "id": "67d674be",
   "metadata": {},
   "outputs": [],
   "source": [
    "\n",
    "plt.figure(figsize=(8,5))\n",
    "sns.histplot(df['Age'], kde=True, bins=30, color='skyblue')\n",
    "plt.title(\"Age Distribution\")\n",
    "plt.show()\n"
   ]
  },
  {
   "cell_type": "code",
   "execution_count": null,
   "id": "8c5f9cd6",
   "metadata": {},
   "outputs": [],
   "source": [
    "\n",
    "plt.figure(figsize=(6,4))\n",
    "sns.countplot(x='Survived', hue='Sex', data=df, palette='Set2')\n",
    "plt.title(\"Survival Count by Gender\")\n",
    "plt.show()\n"
   ]
  },
  {
   "cell_type": "code",
   "execution_count": null,
   "id": "009fc76e",
   "metadata": {},
   "outputs": [],
   "source": [
    "\n",
    "plt.figure(figsize=(8,5))\n",
    "sns.boxplot(x='Pclass', y='Age', data=df, palette='Pastel1')\n",
    "plt.title(\"Age by Passenger Class\")\n",
    "plt.show()\n"
   ]
  },
  {
   "cell_type": "code",
   "execution_count": null,
   "id": "98eec8f5",
   "metadata": {},
   "outputs": [],
   "source": [
    "\n",
    "plt.figure(figsize=(10,6))\n",
    "sns.heatmap(df.corr(), annot=True, cmap='coolwarm', fmt=\".2f\")\n",
    "plt.title(\"Correlation Heatmap\")\n",
    "plt.show()\n"
   ]
  },
  {
   "cell_type": "code",
   "execution_count": null,
   "id": "4fc32186",
   "metadata": {},
   "outputs": [],
   "source": [
    "\n",
    "plt.figure(figsize=(8,5))\n",
    "sns.scatterplot(x='Age', y='Fare', hue='Survived', data=df, palette='coolwarm')\n",
    "plt.title(\"Fare vs Age (Colored by Survival)\")\n",
    "plt.show()\n"
   ]
  },
  {
   "cell_type": "markdown",
   "id": "568e3fa5",
   "metadata": {},
   "source": [
    "\n",
    "## Observations\n",
    "- Survival rate is higher among females than males.\n",
    "- Younger passengers had better survival rates.\n",
    "- First-class passengers were more likely to survive.\n",
    "- Higher fare passengers had higher chances of survival.\n"
   ]
  }
 ],
 "metadata": {},
 "nbformat": 4,
 "nbformat_minor": 5
}
